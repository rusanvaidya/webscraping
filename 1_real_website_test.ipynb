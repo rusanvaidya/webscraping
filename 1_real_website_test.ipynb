{
 "cells": [
  {
   "cell_type": "code",
   "execution_count": 1,
   "metadata": {},
   "outputs": [],
   "source": [
    "from bs4 import BeautifulSoup\n",
    "import requests"
   ]
  },
  {
   "cell_type": "code",
   "execution_count": 24,
   "metadata": {},
   "outputs": [],
   "source": [
    "html_text = requests.get('https://merojob.com/category/it-telecommunication').text "
   ]
  },
  {
   "cell_type": "code",
   "execution_count": 25,
   "metadata": {},
   "outputs": [],
   "source": [
    "# print(html_text)\n",
    "soup = BeautifulSoup(html_text, 'lxml')"
   ]
  },
  {
   "cell_type": "code",
   "execution_count": 40,
   "metadata": {},
   "outputs": [],
   "source": [
    "jobs = soup.find_all('div', class_='card mt-3 hover-shadow')\n",
    "# print(jobs)"
   ]
  },
  {
   "cell_type": "code",
   "execution_count": 41,
   "metadata": {},
   "outputs": [
    {
     "name": "stdout",
     "output_type": "stream",
     "text": [
      "Comapany Name: Verisk Nepal\n",
      "Job Post : DBA-SQL\n",
      "Apply Before: 7 hours from now \n",
      "\n",
      "Comapany Name: Verisk Nepal\n",
      "Job Post : Dot Net Developer\n",
      "Apply Before: 7 hours from now \n",
      "\n",
      "Comapany Name: Verisk Nepal\n",
      "Job Post : QA Automation Engineer\n",
      "Apply Before: 7 hours from now \n",
      "\n",
      "Comapany Name: Verisk Nepal\n",
      "Job Post : AWS DevOps/Linux Admin\n",
      "Apply Before: 7 hours from now \n",
      "\n",
      "Comapany Name: Verisk Nepal\n",
      "Job Post : Python Developer\n",
      "Apply Before: 7 hours from now \n",
      "\n"
     ]
    }
   ],
   "source": [
    "for job in jobs:\n",
    "    job_div = job.find('h1', class_='text-primary font-weight-bold media-heading h4')\n",
    "    company_div = job.find('h3')\n",
    "    job_post = job_div.find('a').text\n",
    "    company = company_div.find('a').text\n",
    "    footer = job.find('div', 'col-sm-6')\n",
    "    apply = footer.find_all('span')[1].text\n",
    "    if 'hours' in apply:\n",
    "        print(f\"Comapany Name: {company.strip()}\")\n",
    "        print(f\"Job Post : {job_post.strip()}\")\n",
    "        print(f\"{apply} \\n\")\n"
   ]
  },
  {
   "cell_type": "code",
   "execution_count": 42,
   "metadata": {},
   "outputs": [
    {
     "name": "stdout",
     "output_type": "stream",
     "text": [
      "Comapany Name: Verisk Nepal\n",
      "Job Post : DBA-SQL\n",
      "Apply Before: 7 hours from now \n",
      "\n",
      "Comapany Name: Verisk Nepal\n",
      "Job Post : Dot Net Developer\n",
      "Apply Before: 7 hours from now \n",
      "\n",
      "Comapany Name: Verisk Nepal\n",
      "Job Post : AWS DevOps/Linux Admin\n",
      "Apply Before: 7 hours from now \n",
      "\n",
      "Comapany Name: Verisk Nepal\n",
      "Job Post : Python Developer\n",
      "Apply Before: 7 hours from now \n",
      "\n"
     ]
    }
   ],
   "source": [
    "unfimiliar_job = input(\"Unfimilar Jobs\")\n",
    "\n",
    "for job in jobs:\n",
    "    job_div = job.find('h1', class_='text-primary font-weight-bold media-heading h4')\n",
    "    company_div = job.find('h3')\n",
    "    job_post = job_div.find('a').text\n",
    "    company = company_div.find('a').text\n",
    "    footer = job.find('div', 'col-sm-6')\n",
    "    apply = footer.find_all('span')[1].text\n",
    "    if 'hours' in apply:\n",
    "        if unfimiliar_job not in job_post:\n",
    "            print(f\"Comapany Name: {company.strip()}\")\n",
    "            print(f\"Job Post : {job_post.strip()}\")\n",
    "            print(f\"{apply} \\n\")\n"
   ]
  },
  {
   "cell_type": "code",
   "execution_count": 66,
   "metadata": {},
   "outputs": [
    {
     "data": {
      "text/plain": [
       "'Apply Before: 1\\xa0week, 1\\xa0day from now'"
      ]
     },
     "execution_count": 66,
     "metadata": {},
     "output_type": "execute_result"
    }
   ],
   "source": []
  },
  {
   "cell_type": "code",
   "execution_count": null,
   "metadata": {},
   "outputs": [],
   "source": []
  }
 ],
 "metadata": {
  "interpreter": {
   "hash": "c8a2ee23e96f383645ac1fd9d56dee6e8e2ff6322b9084107d6c01564479fe04"
  },
  "kernelspec": {
   "display_name": "Python 3.8.10 ('notebook': venv)",
   "language": "python",
   "name": "python3"
  },
  "language_info": {
   "codemirror_mode": {
    "name": "ipython",
    "version": 3
   },
   "file_extension": ".py",
   "mimetype": "text/x-python",
   "name": "python",
   "nbconvert_exporter": "python",
   "pygments_lexer": "ipython3",
   "version": "3.8.10"
  },
  "orig_nbformat": 4
 },
 "nbformat": 4,
 "nbformat_minor": 2
}
